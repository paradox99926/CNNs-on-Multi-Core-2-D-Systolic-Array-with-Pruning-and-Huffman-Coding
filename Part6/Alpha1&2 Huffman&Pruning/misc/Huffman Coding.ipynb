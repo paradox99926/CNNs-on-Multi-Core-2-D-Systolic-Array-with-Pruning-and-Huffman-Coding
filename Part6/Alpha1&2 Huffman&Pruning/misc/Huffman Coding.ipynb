{
 "cells": [
  {
   "cell_type": "markdown",
   "id": "a804f695-231c-4556-b50d-ff9c7607290b",
   "metadata": {},
   "source": [
    "### Project Part Alpha Huffman Coding"
   ]
  },
  {
   "cell_type": "code",
   "execution_count": 1,
   "id": "7a03b88b-4c82-4266-86fd-cbda2c46e009",
   "metadata": {},
   "outputs": [
    {
     "name": "stdout",
     "output_type": "stream",
     "text": [
      "Files already downloaded and verified\n",
      "Files already downloaded and verified\n"
     ]
    }
   ],
   "source": [
    "# Import libraries and load data (CIFAR 10)\n",
    "\n",
    "# system library\n",
    "import os\n",
    "import time\n",
    "import shutil\n",
    "\n",
    "# NN library\n",
    "import torch\n",
    "import torch.nn as nn\n",
    "\n",
    "# datasets library\n",
    "import torchvision\n",
    "import torchvision.transforms as transforms\n",
    "\n",
    "# model library\n",
    "from models import vgg_quant\n",
    "from models import quant_layer\n",
    "\n",
    "\n",
    "# data loading\n",
    "batch_size = 100\n",
    "num_workers = 2\n",
    "normalize = transforms.Normalize(mean=[0.491, 0.482, 0.447], std=[0.247, 0.243, 0.262])\n",
    "\n",
    "\n",
    "train_data = torchvision.datasets.CIFAR10(\n",
    "    root='data',\n",
    "    train=True,\n",
    "    download=True,\n",
    "    transform=transforms.Compose([\n",
    "        transforms.RandomCrop(32, padding=4),\n",
    "        transforms.RandomHorizontalFlip(),\n",
    "        transforms.ToTensor(),\n",
    "        normalize,\n",
    "    ]))\n",
    "\n",
    "\n",
    "test_data = torchvision.datasets.CIFAR10(\n",
    "    root='data',\n",
    "    train=False,\n",
    "    download=True,\n",
    "    transform=transforms.Compose([\n",
    "        transforms.ToTensor(),\n",
    "        normalize,\n",
    "    ]))\n",
    "\n",
    "\n",
    "train_loader = torch.utils.data.DataLoader(train_data, batch_size=batch_size, shuffle=True, num_workers=num_workers)\n",
    "test_loader = torch.utils.data.DataLoader(test_data, batch_size=batch_size, shuffle=False, num_workers=num_workers)"
   ]
  },
  {
   "cell_type": "code",
   "execution_count": 2,
   "id": "a7df4f6b-fff0-44ff-af84-0a32021da09f",
   "metadata": {},
   "outputs": [],
   "source": [
    "# Define functions for training, validation etc.\n",
    "print_freq = 100\n",
    "\n",
    "def train(train_loader, model, criterion, optimizer, epoch):\n",
    "    batch_time = AverageMeter()   ## at the begining of each epoch, this should be reset\n",
    "    data_time = AverageMeter()\n",
    "    losses = AverageMeter()\n",
    "    top1 = AverageMeter()\n",
    "\n",
    "    # switch to train mode\n",
    "    model.train()\n",
    "    end = time.time()\n",
    "    \n",
    "    for i, (x_train, y_train) in enumerate(train_loader):\n",
    "        # record data loading time\n",
    "        data_time.update(time.time() - end)\n",
    "        \n",
    "        # compute output and loss\n",
    "        x_train = x_train.cuda()\n",
    "        y_train = y_train.cuda()\n",
    "        output = model(x_train)\n",
    "        loss = criterion(output, y_train)\n",
    "\n",
    "        # measure accuracy and record loss\n",
    "        prec = accuracy(output, y_train)[0]\n",
    "        losses.update(loss.item(), x_train.size(0))\n",
    "        top1.update(prec.item(), x_train.size(0))\n",
    "\n",
    "        # compute gradient and do SGD step\n",
    "        optimizer.zero_grad()\n",
    "        loss.backward()\n",
    "        optimizer.step()\n",
    "\n",
    "        # output epoch time and loss\n",
    "        batch_time.update(time.time() - end)\n",
    "        end = time.time() \n",
    "\n",
    "        if i % print_freq == 0:\n",
    "            print('Epoch: [{0}][{1}/{2}]\\t'\n",
    "                  'Time {batch_time.val:.3f} ({batch_time.avg:.3f})\\t'\n",
    "                  'Data {data_time.val:.3f} ({data_time.avg:.3f})\\t'\n",
    "                  'Loss {loss.val:.4f} ({loss.avg:.4f})\\t'\n",
    "                  'Prec {top1.val:.3f}% ({top1.avg:.3f}%)'.format(\n",
    "                   epoch, i, len(train_loader), batch_time=batch_time,\n",
    "                   data_time=data_time, loss=losses, top1=top1))\n",
    "\n",
    "            \n",
    "def validate(test_loader, model, criterion):\n",
    "    batch_time = AverageMeter()\n",
    "    losses = AverageMeter()\n",
    "    top1 = AverageMeter()\n",
    "\n",
    "    # switch to evaluate mode\n",
    "    model.eval()\n",
    "    end = time.time()\n",
    "    \n",
    "    with torch.no_grad():\n",
    "        for i, (x_test, y_test) in enumerate(test_loader):\n",
    "            # compute output\n",
    "            x_test = x_test.cuda()\n",
    "            y_test = y_test.cuda()\n",
    "            output = model(x_test)\n",
    "            loss = criterion(output, y_test)\n",
    "\n",
    "            # measure accuracy and record loss\n",
    "            prec = accuracy(output, y_test)[0]\n",
    "            losses.update(loss.item(), x_test.size(0))\n",
    "            top1.update(prec.item(), x_test.size(0))\n",
    "\n",
    "            # measure elapsed time\n",
    "            batch_time.update(time.time() - end)\n",
    "            end = time.time()\n",
    "\n",
    "            if i % print_freq == 0:  # This line shows how frequently print out the status. e.g., i%5 => every 5 batch, prints out\n",
    "                print('Test: [{0}/{1}]\\t'\n",
    "                  'Time {batch_time.val:.3f} ({batch_time.avg:.3f})\\t'\n",
    "                  'Loss {loss.val:.4f} ({loss.avg:.4f})\\t'\n",
    "                  'Prec {top1.val:.3f}% ({top1.avg:.3f}%)'.format(\n",
    "                   i, len(test_loader), batch_time=batch_time, loss=losses,\n",
    "                   top1=top1))\n",
    "\n",
    "    print(' * Prec {top1.avg:.3f}% '.format(top1=top1))\n",
    "    return top1.avg\n",
    "\n",
    "\n",
    "def accuracy(output, target, topk=(1,)):\n",
    "    \"\"\"Computes the precision@k for the specified values of k\"\"\"\n",
    "    maxk = max(topk)\n",
    "    batch_size = target.size(0)\n",
    "\n",
    "    _, pred = output.topk(maxk, 1, True, True) # topk(k, dim=None, largest=True, sorted=True)\n",
    "                                               # will output (max value, its index)\n",
    "    pred = pred.t()                                         # transpose\n",
    "    correct = pred.eq(target.view(1, -1).expand_as(pred))   # \"-1\": calculate automatically\n",
    "\n",
    "    res = []\n",
    "    for k in topk:\n",
    "        correct_k = correct[:k].view(-1).float().sum(0)  # view(-1): make a flattened 1D tensor\n",
    "        res.append(correct_k.mul_(100.0 / batch_size))   # correct: size of [maxk, batch_size]\n",
    "    return res\n",
    "\n",
    "\n",
    "class AverageMeter(object):\n",
    "    \"\"\"Computes and stores the average and current value\"\"\"\n",
    "    def __init__(self):\n",
    "        self.reset()\n",
    "\n",
    "    def reset(self):\n",
    "        self.val = 0\n",
    "        self.avg = 0\n",
    "        self.sum = 0\n",
    "        self.count = 0\n",
    "\n",
    "    def update(self, val, n=1):\n",
    "        self.val = val\n",
    "        self.sum += val * n    ## n is impact factor\n",
    "        self.count += n\n",
    "        self.avg = self.sum / self.count\n",
    "\n",
    "        \n",
    "def save_checkpoint(state, is_best, fdir):\n",
    "    filepath = os.path.join(fdir, 'checkpoint.pth')\n",
    "    torch.save(state, filepath)\n",
    "    if is_best:\n",
    "        shutil.copyfile(filepath, os.path.join(fdir, 'model_best.pth.tar'))\n",
    "\n",
    "\n",
    "def adjust_learning_rate(optimizer, epoch):\n",
    "    \"\"\"For resnet, the lr starts from 0.1, and is divided by 10 at 80 and 120 epochs\"\"\"\n",
    "    adjust_list = [150, 225]\n",
    "    if epoch in adjust_list:\n",
    "        for param_group in optimizer.param_groups:\n",
    "            param_group['lr'] = param_group['lr'] * 0.1        \n"
   ]
  },
  {
   "cell_type": "code",
   "execution_count": 3,
   "id": "4512d044-5f53-49e8-a6df-358efe81f0ad",
   "metadata": {},
   "outputs": [],
   "source": [
    "# Configure model\n",
    "model_name = 'project'\n",
    "model_project = vgg_quant.VGG16_quant()\n",
    "\n",
    "# adjust certain layers\n",
    "model_project.features[24] = quant_layer.QuantConv2d(256, 8, kernel_size=3,padding=1)\n",
    "model_project.features[25] = nn.BatchNorm2d(8)\n",
    "model_project.features[27] = quant_layer.QuantConv2d(8, 8, kernel_size=3, padding=1)\n",
    "model_project.features[30] = quant_layer.QuantConv2d(8, 512, kernel_size=3, padding=1)\n",
    "del model_project.features[28]\n",
    "\n",
    "# parameters for training\n",
    "lr = 0.02\n",
    "weight_decay = 1e-4\n",
    "epochs = 100\n",
    "best_prec = 0\n",
    "\n",
    "model_project = model_project.cuda()\n",
    "criterion = nn.CrossEntropyLoss().cuda()\n",
    "optimizer = torch.optim.SGD(model_project.parameters(), lr=lr, momentum=0.8, weight_decay=weight_decay)\n",
    "\n",
    "# saving path\n",
    "if not os.path.exists('result'):\n",
    "    os.makedirs('result')\n",
    "fdir = 'result/'+str(model_name)\n",
    "if not os.path.exists(fdir):\n",
    "    os.makedirs(fdir)"
   ]
  },
  {
   "cell_type": "code",
   "execution_count": 4,
   "id": "e62b5c78-2d51-4c40-9092-be94997b58d5",
   "metadata": {},
   "outputs": [
    {
     "name": "stdout",
     "output_type": "stream",
     "text": [
      "Test: [0/100]\tTime 1.134 (1.134)\tLoss 0.3422 (0.3422)\tPrec 92.000% (92.000%)\n",
      " * Prec 92.140% \n"
     ]
    }
   ],
   "source": [
    "# Validate 4bit vgg16 model on test dataset\n",
    "fdir = 'result/'+str(model_name)+'/model_best.pth.tar'\n",
    "checkpoint = torch.load(fdir)\n",
    "model_project.load_state_dict(checkpoint['state_dict'])\n",
    "\n",
    "criterion = nn.CrossEntropyLoss().cuda()\n",
    "model_project.eval()\n",
    "model_project.cuda()\n",
    "prec = validate(test_loader, model_project, criterion)"
   ]
  },
  {
   "cell_type": "code",
   "execution_count": 5,
   "id": "f3fe3f41-7632-4c6b-92b7-1f99b710cb3c",
   "metadata": {},
   "outputs": [
    {
     "name": "stdout",
     "output_type": "stream",
     "text": [
      "feature 27th layer's input size: torch.Size([100, 8, 4, 4])\n",
      "feature 29th layer's input size: torch.Size([100, 8, 4, 4])\n"
     ]
    }
   ],
   "source": [
    "# Prehook\n",
    "class SaveOutput:\n",
    "    def __init__(self):\n",
    "        self.outputs = []\n",
    "    def __call__(self, module, module_in):\n",
    "        self.outputs.append(module_in)\n",
    "    def clear(self):\n",
    "        self.outputs = []\n",
    "\n",
    "save_output = SaveOutput()\n",
    "for layer in model_project.modules():\n",
    "    if isinstance(layer, torch.nn.Conv2d):\n",
    "        # print(\"prehooked\")\n",
    "        layer.register_forward_pre_hook(save_output)\n",
    "\n",
    "dataiter = iter(train_loader)\n",
    "images, labels = next(dataiter)\n",
    "images = images.cuda()\n",
    "out = model_project(images)\n",
    "\n",
    "print(\"feature 27th layer's input size:\", save_output.outputs[8][0].size())\n",
    "print(\"feature 29th layer's input size:\", save_output.outputs[9][0].size())"
   ]
  },
  {
   "cell_type": "code",
   "execution_count": 6,
   "id": "beb7539a-ce73-4bfd-9212-8dac4b7088df",
   "metadata": {},
   "outputs": [],
   "source": [
    "# Find x_int and w_int for the 8*8 convolution layer\n",
    "layer = model_project.features[27]\n",
    "x = save_output.outputs[8][0]\n",
    "\n",
    "w_bits = 4\n",
    "w_alpha = layer.weight_quant.wgt_alpha\n",
    "w_delta = w_alpha/(2**(w_bits-1)-1)\n",
    "weight_q = layer.weight_q # quantized value is stored during the training\n",
    "weight_int = weight_q/w_delta\n",
    "\n",
    "x_bits = 4\n",
    "x_alpha  = layer.act_alpha\n",
    "x_delta = x_alpha/(2**x_bits-1)\n",
    "act_quant_fn = quant_layer.act_quantization(x_bits) # define the quantization function\n",
    "x_q = act_quant_fn(x, x_alpha) # create the quantized value for x\n",
    "x_int = x_q/x_delta"
   ]
  },
  {
   "cell_type": "code",
   "execution_count": 7,
   "id": "32e9426a-f3b5-41fb-89db-4e2b8ae99360",
   "metadata": {},
   "outputs": [
    {
     "name": "stdout",
     "output_type": "stream",
     "text": [
      "tensor(0.0007, device='cuda:0', grad_fn=<SumBackward0>)\n"
     ]
    }
   ],
   "source": [
    "# Check the recovered output has similar value to the un-quantized original output\n",
    "conv_int = torch.nn.Conv2d(in_channels=8, out_channels=8, kernel_size=3, padding=1, bias=False)\n",
    "conv_int.weight = torch.nn.parameter.Parameter(weight_int)\n",
    "output_int = conv_int(x_int)\n",
    "output_int = model_project.features[28](output_int)\n",
    "output_recovered = output_int * w_delta * x_delta\n",
    "\n",
    "# calculate the differences\n",
    "print((output_recovered - save_output.outputs[9][0]).sum())"
   ]
  },
  {
   "cell_type": "markdown",
   "id": "f22473c8-7070-4f4f-85b4-10bd38751141",
   "metadata": {},
   "source": [
    "#### Output activation.txt in original format"
   ]
  },
  {
   "cell_type": "code",
   "execution_count": 8,
   "id": "dd6c6094-ea96-4507-af71-76d756b7017d",
   "metadata": {},
   "outputs": [],
   "source": [
    "# Converting decimal number to binary numbe at given precision\n",
    "def dec2bin(x, precision):\n",
    "    if x >= 0:\n",
    "        return bin(x)[2:].zfill(precision)\n",
    "    else:\n",
    "        return bin(2**precision+x)[2:]"
   ]
  },
  {
   "cell_type": "code",
   "execution_count": 9,
   "id": "52c48fc4-e7c1-442d-8582-c88ef7b8adf0",
   "metadata": {},
   "outputs": [
    {
     "name": "stdout",
     "output_type": "stream",
     "text": [
      "Activation.txt file length: 1152 bits.\n"
     ]
    }
   ],
   "source": [
    "# Original version\n",
    "data_x = x_int[0]                        # pich the 1st graph out of input batch to test\n",
    "data_x_pad = torch.zeros(8,6,6).cuda()   # Add padding 0\n",
    "data_x_pad[:, 1:5, 1:5] = data_x         # fill the middle of x matrix with original values\n",
    "data_x_pad = torch.reshape(data_x_pad, (8,-1))\n",
    "precision = 4\n",
    "data_row = []\n",
    "\n",
    "\n",
    "file_length = 0\n",
    "filename = 'activation_tile0.txt'\n",
    "with open(filename, 'w') as f:\n",
    "    for col in range(data_x_pad.size(1)):\n",
    "        data_row.clear()\n",
    "        for row in range(data_x_pad.size(0)):\n",
    "            data = round(data_x_pad[7-row, col].item())\n",
    "            data = dec2bin(data, precision)\n",
    "            data_row.append(data)\n",
    "            file_length += len(data)\n",
    "        f.write(''.join(data_row) + '\\n')\n",
    "\n",
    "\n",
    "# Print file length\n",
    "# Here we define the number of 0 or 1 as file length\n",
    "print('Activation.txt file length: {} bits.'.format(file_length))"
   ]
  },
  {
   "cell_type": "markdown",
   "id": "8f0549a8-5404-4340-b72a-e91fa8ced925",
   "metadata": {},
   "source": [
    "#### Output activation.txt with Huffman coding"
   ]
  },
  {
   "cell_type": "code",
   "execution_count": 10,
   "id": "2dead99f-f828-4e24-88a1-d01f43cc1e01",
   "metadata": {},
   "outputs": [
    {
     "name": "stdout",
     "output_type": "stream",
     "text": [
      "Activation.txt with Huffman coding file length: 422 bits.\n"
     ]
    }
   ],
   "source": [
    "from misc import HuffmanCoding as HC\n",
    "\n",
    "data_x = x_int[0]                        # pich the 1st graph out of input batch to test\n",
    "data_x_pad = torch.zeros(8,6,6).cuda()   # Add padding 0\n",
    "data_x_pad[:, 1:5, 1:5] = data_x         # fill the middle of x matrix with original values\n",
    "data_x_pad = torch.reshape(data_x_pad, (8,-1))\n",
    "precision = 4\n",
    "data_row = []\n",
    "\n",
    "# generate coding table\n",
    "counter = [0 for _ in range(16)]\n",
    "for i in range(8):\n",
    "    for j in range(36):\n",
    "        counter[round(data_x_pad[i,j].item())] += 1\n",
    "code_table = HC.huffman_encoding(counter)\n",
    "code_table = dict(sorted(code_table.items()))\n",
    "\n",
    "\n",
    "# output coding table\n",
    "filename = 'activation_tile0_ref.txt'\n",
    "with open(filename,'w') as f:\n",
    "    for item in code_table.values():\n",
    "        f.write(item+'\\n')\n",
    "\n",
    "\n",
    "# Huffman coding version\n",
    "file_length_huffman = 0\n",
    "filename = 'activation_tile0_huffman.txt'\n",
    "with open(filename, 'w') as f:\n",
    "    for col in range(data_x_pad.size(1)):\n",
    "        data_row.clear()\n",
    "        for row in range(data_x_pad.size(0)):\n",
    "            data = round(data_x_pad[7-row, col].item())\n",
    "            data = code_table[data]\n",
    "            data_row.append(data)\n",
    "            file_length_huffman += len(data)\n",
    "        f.write(''.join(data_row) + '\\n')\n",
    "\n",
    "\n",
    "# Print file length\n",
    "# Here we define the number of 0 or 1 as file length\n",
    "print('Activation.txt with Huffman coding file length: {} bits.'.format(file_length_huffman))"
   ]
  },
  {
   "cell_type": "code",
   "execution_count": 11,
   "id": "80da3e3e-b616-4ab8-884c-ac378e316e83",
   "metadata": {},
   "outputs": [
    {
     "name": "stdout",
     "output_type": "stream",
     "text": [
      "Compression ration: 0.3663\n"
     ]
    }
   ],
   "source": [
    "# Calculate compression ratio\n",
    "print(\"Compression ration: {:.4f}\".format(file_length_huffman/file_length))"
   ]
  }
 ],
 "metadata": {
  "kernelspec": {
   "display_name": "Python 3 (ipykernel)",
   "language": "python",
   "name": "python3"
  },
  "language_info": {
   "codemirror_mode": {
    "name": "ipython",
    "version": 3
   },
   "file_extension": ".py",
   "mimetype": "text/x-python",
   "name": "python",
   "nbconvert_exporter": "python",
   "pygments_lexer": "ipython3",
   "version": "3.11.9"
  }
 },
 "nbformat": 4,
 "nbformat_minor": 5
}
