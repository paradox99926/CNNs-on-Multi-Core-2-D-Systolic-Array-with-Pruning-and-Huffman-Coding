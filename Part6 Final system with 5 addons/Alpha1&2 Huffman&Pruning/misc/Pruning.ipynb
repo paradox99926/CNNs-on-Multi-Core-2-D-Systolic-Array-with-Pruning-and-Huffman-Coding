{
 "cells": [
  {
   "cell_type": "markdown",
   "id": "c8ededac-eb40-48d1-a054-83fb77965097",
   "metadata": {},
   "source": [
    "### Project Part Alpha Pruning"
   ]
  },
  {
   "cell_type": "code",
   "execution_count": 1,
   "id": "00cd70fe-a834-4f13-846e-468d41e0156e",
   "metadata": {},
   "outputs": [
    {
     "name": "stdout",
     "output_type": "stream",
     "text": [
      "Files already downloaded and verified\n",
      "Files already downloaded and verified\n"
     ]
    }
   ],
   "source": [
    "# Import libraries and load data (CIFAR 10)\n",
    "\n",
    "# system library\n",
    "import os\n",
    "import time\n",
    "import shutil\n",
    "\n",
    "# NN library\n",
    "import torch\n",
    "import torch.nn as nn\n",
    "import torch.nn.utils.prune as prune\n",
    "\n",
    "# datasets library\n",
    "import torchvision\n",
    "import torchvision.transforms as transforms\n",
    "\n",
    "# model library\n",
    "from models import vgg_quant\n",
    "from models import quant_layer\n",
    "\n",
    "\n",
    "# data loading\n",
    "batch_size = 100\n",
    "num_workers = 2\n",
    "normalize = transforms.Normalize(mean=[0.491, 0.482, 0.447], std=[0.247, 0.243, 0.262])\n",
    "\n",
    "\n",
    "train_data = torchvision.datasets.CIFAR10(\n",
    "    root='data',\n",
    "    train=True,\n",
    "    download=True,\n",
    "    transform=transforms.Compose([\n",
    "        transforms.RandomCrop(32, padding=4),\n",
    "        transforms.RandomHorizontalFlip(),\n",
    "        transforms.ToTensor(),\n",
    "        normalize,\n",
    "    ]))\n",
    "\n",
    "\n",
    "test_data = torchvision.datasets.CIFAR10(\n",
    "    root='data',\n",
    "    train=False,\n",
    "    download=True,\n",
    "    transform=transforms.Compose([\n",
    "        transforms.ToTensor(),\n",
    "        normalize,\n",
    "    ]))\n",
    "\n",
    "\n",
    "train_loader = torch.utils.data.DataLoader(train_data, batch_size=batch_size, shuffle=True, num_workers=num_workers)\n",
    "test_loader = torch.utils.data.DataLoader(test_data, batch_size=batch_size, shuffle=False, num_workers=num_workers)"
   ]
  },
  {
   "cell_type": "code",
   "execution_count": 2,
   "id": "79b34e89-d929-412f-99bd-4f00d9bcdf00",
   "metadata": {},
   "outputs": [],
   "source": [
    "# Define functions for training, validation etc.\n",
    "print_freq = 100\n",
    "\n",
    "def train(train_loader, model, criterion, optimizer, epoch):\n",
    "    batch_time = AverageMeter()   ## at the begining of each epoch, this should be reset\n",
    "    data_time = AverageMeter()\n",
    "    losses = AverageMeter()\n",
    "    top1 = AverageMeter()\n",
    "\n",
    "    # switch to train mode\n",
    "    model.train()\n",
    "    end = time.time()\n",
    "    \n",
    "    for i, (x_train, y_train) in enumerate(train_loader):\n",
    "        # record data loading time\n",
    "        data_time.update(time.time() - end)\n",
    "        \n",
    "        # compute output and loss\n",
    "        x_train = x_train.cuda()\n",
    "        y_train = y_train.cuda()\n",
    "        output = model(x_train)\n",
    "        loss = criterion(output, y_train)\n",
    "\n",
    "        # measure accuracy and record loss\n",
    "        prec = accuracy(output, y_train)[0]\n",
    "        losses.update(loss.item(), x_train.size(0))\n",
    "        top1.update(prec.item(), x_train.size(0))\n",
    "\n",
    "        # compute gradient and do SGD step\n",
    "        optimizer.zero_grad()\n",
    "        loss.backward()\n",
    "        optimizer.step()\n",
    "\n",
    "        # output epoch time and loss\n",
    "        batch_time.update(time.time() - end)\n",
    "        end = time.time() \n",
    "\n",
    "        if i % print_freq == 0:\n",
    "            print('Epoch: [{0}][{1}/{2}]\\t'\n",
    "                  'Time {batch_time.val:.3f} ({batch_time.avg:.3f})\\t'\n",
    "                  'Data {data_time.val:.3f} ({data_time.avg:.3f})\\t'\n",
    "                  'Loss {loss.val:.4f} ({loss.avg:.4f})\\t'\n",
    "                  'Prec {top1.val:.3f}% ({top1.avg:.3f}%)'.format(\n",
    "                   epoch, i, len(train_loader), batch_time=batch_time,\n",
    "                   data_time=data_time, loss=losses, top1=top1))\n",
    "\n",
    "            \n",
    "def validate(test_loader, model, criterion):\n",
    "    batch_time = AverageMeter()\n",
    "    losses = AverageMeter()\n",
    "    top1 = AverageMeter()\n",
    "\n",
    "    # switch to evaluate mode\n",
    "    model.eval()\n",
    "    end = time.time()\n",
    "    \n",
    "    with torch.no_grad():\n",
    "        for i, (x_test, y_test) in enumerate(test_loader):\n",
    "            # compute output\n",
    "            x_test = x_test.cuda()\n",
    "            y_test = y_test.cuda()\n",
    "            output = model(x_test)\n",
    "            loss = criterion(output, y_test)\n",
    "\n",
    "            # measure accuracy and record loss\n",
    "            prec = accuracy(output, y_test)[0]\n",
    "            losses.update(loss.item(), x_test.size(0))\n",
    "            top1.update(prec.item(), x_test.size(0))\n",
    "\n",
    "            # measure elapsed time\n",
    "            batch_time.update(time.time() - end)\n",
    "            end = time.time()\n",
    "\n",
    "            if i % print_freq == 0:  # This line shows how frequently print out the status. e.g., i%5 => every 5 batch, prints out\n",
    "                print('Test: [{0}/{1}]\\t'\n",
    "                  'Time {batch_time.val:.3f} ({batch_time.avg:.3f})\\t'\n",
    "                  'Loss {loss.val:.4f} ({loss.avg:.4f})\\t'\n",
    "                  'Prec {top1.val:.3f}% ({top1.avg:.3f}%)'.format(\n",
    "                   i, len(test_loader), batch_time=batch_time, loss=losses,\n",
    "                   top1=top1))\n",
    "\n",
    "    print(' * Prec {top1.avg:.3f}% '.format(top1=top1))\n",
    "    return top1.avg\n",
    "\n",
    "\n",
    "def accuracy(output, target, topk=(1,)):\n",
    "    \"\"\"Computes the precision@k for the specified values of k\"\"\"\n",
    "    maxk = max(topk)\n",
    "    batch_size = target.size(0)\n",
    "\n",
    "    _, pred = output.topk(maxk, 1, True, True) # topk(k, dim=None, largest=True, sorted=True)\n",
    "                                               # will output (max value, its index)\n",
    "    pred = pred.t()                                         # transpose\n",
    "    correct = pred.eq(target.view(1, -1).expand_as(pred))   # \"-1\": calculate automatically\n",
    "\n",
    "    res = []\n",
    "    for k in topk:\n",
    "        correct_k = correct[:k].view(-1).float().sum(0)  # view(-1): make a flattened 1D tensor\n",
    "        res.append(correct_k.mul_(100.0 / batch_size))   # correct: size of [maxk, batch_size]\n",
    "    return res\n",
    "\n",
    "\n",
    "class AverageMeter(object):\n",
    "    \"\"\"Computes and stores the average and current value\"\"\"\n",
    "    def __init__(self):\n",
    "        self.reset()\n",
    "\n",
    "    def reset(self):\n",
    "        self.val = 0\n",
    "        self.avg = 0\n",
    "        self.sum = 0\n",
    "        self.count = 0\n",
    "\n",
    "    def update(self, val, n=1):\n",
    "        self.val = val\n",
    "        self.sum += val * n    ## n is impact factor\n",
    "        self.count += n\n",
    "        self.avg = self.sum / self.count\n",
    "\n",
    "        \n",
    "def save_checkpoint(state, is_best, fdir):\n",
    "    filepath = os.path.join(fdir, 'checkpoint.pth')\n",
    "    torch.save(state, filepath)\n",
    "    if is_best:\n",
    "        shutil.copyfile(filepath, os.path.join(fdir, 'model_best.pth.tar'))\n",
    "\n",
    "\n",
    "def adjust_learning_rate(optimizer, epoch):\n",
    "    \"\"\"For resnet, the lr starts from 0.1, and is divided by 10 at 80 and 120 epochs\"\"\"\n",
    "    adjust_list = [150, 225]\n",
    "    if epoch in adjust_list:\n",
    "        for param_group in optimizer.param_groups:\n",
    "            param_group['lr'] = param_group['lr'] * 0.1        \n"
   ]
  },
  {
   "cell_type": "code",
   "execution_count": 3,
   "id": "e2f0783f-ab1b-43a6-90d2-b91199387001",
   "metadata": {},
   "outputs": [],
   "source": [
    "# Configure model\n",
    "model_name = 'project'\n",
    "model_project = vgg_quant.VGG16_quant()\n",
    "\n",
    "# Adjust certain layers\n",
    "model_project.features[24] = quant_layer.QuantConv2d(256, 8, kernel_size=3,padding=1)\n",
    "model_project.features[25] = nn.BatchNorm2d(8)\n",
    "model_project.features[27] = quant_layer.QuantConv2d(8, 8, kernel_size=3, padding=1)\n",
    "model_project.features[30] = quant_layer.QuantConv2d(8, 512, kernel_size=3, padding=1)\n",
    "del model_project.features[28]\n",
    "\n",
    "# parameters for training\n",
    "lr = 0.02\n",
    "weight_decay = 1e-4\n",
    "epochs = 100\n",
    "best_prec = 0\n",
    "\n",
    "model_project = model_project.cuda()\n",
    "criterion = nn.CrossEntropyLoss().cuda()\n",
    "optimizer = torch.optim.SGD(model_project.parameters(), lr=lr, momentum=0.8, weight_decay=weight_decay)\n",
    "\n",
    "# saving path\n",
    "if not os.path.exists('result'):\n",
    "    os.makedirs('result')\n",
    "fdir = 'result/'+str(model_name)\n",
    "if not os.path.exists(fdir):\n",
    "    os.makedirs(fdir)"
   ]
  },
  {
   "cell_type": "code",
   "execution_count": 4,
   "id": "2d67b403-0888-4e67-9b3b-0afd9952b196",
   "metadata": {},
   "outputs": [
    {
     "name": "stdout",
     "output_type": "stream",
     "text": [
      "Test: [0/100]\tTime 1.092 (1.092)\tLoss 0.3422 (0.3422)\tPrec 92.000% (92.000%)\n",
      " * Prec 92.140% \n"
     ]
    }
   ],
   "source": [
    "# Validate 4bit vgg16 model on test dataset\n",
    "fdir = 'result/'+str(model_name)+'/model_best.pth.tar'\n",
    "checkpoint = torch.load(fdir)\n",
    "model_project.load_state_dict(checkpoint['state_dict'])\n",
    "\n",
    "criterion = nn.CrossEntropyLoss().cuda()\n",
    "model_project.eval()\n",
    "model_project.cuda()\n",
    "prec = validate(test_loader, model_project, criterion)"
   ]
  },
  {
   "cell_type": "markdown",
   "id": "1c774643-eb47-4f40-9fe8-799000124dcf",
   "metadata": {},
   "source": [
    "#### Unstructured pruning with 80% sparsity for the modified conv layer"
   ]
  },
  {
   "cell_type": "code",
   "execution_count": 5,
   "id": "76afc06f-117b-4361-86d1-7bf383270be7",
   "metadata": {},
   "outputs": [
    {
     "data": {
      "text/plain": [
       "QuantConv2d(\n",
       "  8, 8, kernel_size=(3, 3), stride=(1, 1), padding=(1, 1), bias=False\n",
       "  (weight_quant): weight_quantize_fn()\n",
       ")"
      ]
     },
     "execution_count": 5,
     "metadata": {},
     "output_type": "execute_result"
    }
   ],
   "source": [
    "# Unstructured pruning\n",
    "# Structured pruning\n",
    "layer = model_project.features[27]\n",
    "prune.ln_structured(layer, name='weight', amount=0.8, dim=1, n=1)"
   ]
  },
  {
   "cell_type": "code",
   "execution_count": 6,
   "id": "5068dee8-2a57-42e7-86dd-99f4303ce212",
   "metadata": {},
   "outputs": [
    {
     "name": "stdout",
     "output_type": "stream",
     "text": [
      "Sparsity level:  tensor(0.7500, device='cuda:0')\n",
      "Test: [0/100]\tTime 0.441 (0.441)\tLoss 4.5215 (4.5215)\tPrec 26.000% (26.000%)\n",
      " * Prec 26.300% \n"
     ]
    }
   ],
   "source": [
    "# Check sparsity\n",
    "mask1 = model_project.features[27].weight_mask\n",
    "sparsity_mask1 = (mask1 == 0).sum() / mask1.nelement()\n",
    "print(\"Sparsity level: \", sparsity_mask1)\n",
    "\n",
    "# Check precision before training\n",
    "prec = validate(test_loader, model_project, criterion)"
   ]
  },
  {
   "cell_type": "code",
   "execution_count": null,
   "id": "185792f4-fca4-465a-bd75-34a6b3b08c5c",
   "metadata": {},
   "outputs": [],
   "source": [
    "# Retrain\n",
    "for epoch in range(10):\n",
    "    adjust_learning_rate(optimizer, epoch)\n",
    "    train(train_loader, model_project, criterion, optimizer, epoch)\n",
    "    \n",
    "    # evaluate on test set\n",
    "    print(\"Validation starts\")\n",
    "    prec = validate(test_loader, model_project, criterion)\n",
    "\n",
    "    # remember best precision and save checkpoint\n",
    "    is_best = prec > best_prec\n",
    "    best_prec = max(prec,best_prec)"
   ]
  },
  {
   "cell_type": "code",
   "execution_count": 8,
   "id": "c4b6e828-78c3-4703-9d4f-fe0a173f62ae",
   "metadata": {},
   "outputs": [
    {
     "name": "stdout",
     "output_type": "stream",
     "text": [
      "Test: [0/100]\tTime 0.356 (0.356)\tLoss 0.3956 (0.3956)\tPrec 86.000% (86.000%)\n",
      " * Prec 89.700% \n"
     ]
    }
   ],
   "source": [
    "# Check precision after training\n",
    "prec = validate(test_loader, model_project, criterion)"
   ]
  },
  {
   "cell_type": "markdown",
   "id": "de82c60e-2541-4f08-8b49-78108da96372",
   "metadata": {},
   "source": [
    "#### Structured pruning with 50% sparsity for the modified conv layer"
   ]
  },
  {
   "cell_type": "code",
   "execution_count": 9,
   "id": "0048a3ef-811b-4af4-b2ae-b8e5d3df1766",
   "metadata": {},
   "outputs": [
    {
     "data": {
      "text/plain": [
       "QuantConv2d(\n",
       "  8, 8, kernel_size=(3, 3), stride=(1, 1), padding=(1, 1), bias=False\n",
       "  (weight_quant): weight_quantize_fn()\n",
       ")"
      ]
     },
     "execution_count": 9,
     "metadata": {},
     "output_type": "execute_result"
    }
   ],
   "source": [
    "# Reload checkpoint\n",
    "model_project = vgg_quant.VGG16_quant()\n",
    "model_project.features[24] = quant_layer.QuantConv2d(256, 8, kernel_size=3,padding=1)\n",
    "model_project.features[25] = nn.BatchNorm2d(8)\n",
    "model_project.features[27] = quant_layer.QuantConv2d(8, 8, kernel_size=3, padding=1)\n",
    "model_project.features[30] = quant_layer.QuantConv2d(8, 512, kernel_size=3, padding=1)\n",
    "del model_project.features[28]\n",
    "\n",
    "fdir = 'result/'+'project'+'/model_best.pth.tar'\n",
    "checkpoint = torch.load(fdir)\n",
    "model_project.load_state_dict(checkpoint['state_dict'])\n",
    "model_project.cuda()\n",
    "\n",
    "# Structured pruning\n",
    "layer = model_project.features[27]\n",
    "prune.ln_structured(layer, name='weight', amount=0.4, dim=1, n=1)"
   ]
  },
  {
   "cell_type": "code",
   "execution_count": 10,
   "id": "3cc712a5-1263-48eb-a5b2-28dffda2ffeb",
   "metadata": {},
   "outputs": [
    {
     "name": "stdout",
     "output_type": "stream",
     "text": [
      "Sparsity level:  tensor(0.3750, device='cuda:0')\n",
      "Test: [0/100]\tTime 0.374 (0.374)\tLoss 1.5509 (1.5509)\tPrec 66.000% (66.000%)\n",
      " * Prec 57.910% \n"
     ]
    }
   ],
   "source": [
    "# Check sparsity\n",
    "mask1 = model_project.features[27].weight_mask\n",
    "sparsity_mask1 = (mask1 == 0).sum() / mask1.nelement()\n",
    "print(\"Sparsity level: \", sparsity_mask1)\n",
    "\n",
    "# Check precision before training\n",
    "prec = validate(test_loader, model_project, criterion)"
   ]
  },
  {
   "cell_type": "code",
   "execution_count": null,
   "id": "102c88a7-c0a8-4f9d-855e-8b6666d2f0c7",
   "metadata": {},
   "outputs": [],
   "source": [
    "# Retrain\n",
    "for epoch in range(10):\n",
    "    adjust_learning_rate(optimizer, epoch)\n",
    "    train(train_loader, model_project, criterion, optimizer, epoch)\n",
    "    \n",
    "    # evaluate on test set\n",
    "    print(\"Validation starts\")\n",
    "    prec = validate(test_loader, model_project, criterion)\n",
    "\n",
    "    # remember best precision and save checkpoint\n",
    "    is_best = prec > best_prec\n",
    "    best_prec = max(prec,best_prec)"
   ]
  },
  {
   "cell_type": "code",
   "execution_count": 12,
   "id": "1a74b690-cf2b-4b60-a91d-7360f1f114d0",
   "metadata": {},
   "outputs": [
    {
     "name": "stdout",
     "output_type": "stream",
     "text": [
      "Test: [0/100]\tTime 0.331 (0.331)\tLoss 0.8657 (0.8657)\tPrec 83.000% (83.000%)\n",
      " * Prec 73.840% \n"
     ]
    }
   ],
   "source": [
    "# Check precision after training\n",
    "prec = validate(test_loader, model_project, criterion)"
   ]
  }
 ],
 "metadata": {
  "kernelspec": {
   "display_name": "Python 3 (ipykernel)",
   "language": "python",
   "name": "python3"
  },
  "language_info": {
   "codemirror_mode": {
    "name": "ipython",
    "version": 3
   },
   "file_extension": ".py",
   "mimetype": "text/x-python",
   "name": "python",
   "nbconvert_exporter": "python",
   "pygments_lexer": "ipython3",
   "version": "3.11.9"
  }
 },
 "nbformat": 4,
 "nbformat_minor": 5
}
